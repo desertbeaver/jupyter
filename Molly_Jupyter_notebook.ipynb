{
 "cells": [
  {
   "cell_type": "markdown",
   "id": "9d54a101-afbf-438c-9010-9b3f515a1625",
   "metadata": {},
   "source": [
    "#### Add your code below following the instructions given in the course"
   ]
  },
  {
   "cell_type": "markdown",
   "id": "39d89e56-13ac-4c28-b743-0675e232fa43",
   "metadata": {},
   "source": [
    " ***My Jupyter Notebook on IBM Watson Studio***"
   ]
  },
  {
   "cell_type": "markdown",
   "id": "42e9b81d-b1d8-4c01-9dd2-df8e5cde2aa3",
   "metadata": {},
   "source": [
    "***Molly Kaplan***\n",
    "***Data Scientist or Process Engineer***"
   ]
  },
  {
   "cell_type": "markdown",
   "id": "06788af8-7742-41f2-ac1b-81d8edb4aed5",
   "metadata": {},
   "source": [
    "*I am interested in data science to gain insight into manufacturing processes*"
   ]
  },
  {
   "cell_type": "markdown",
   "id": "29387e38-badf-4499-b087-126a161a9f8e",
   "metadata": {},
   "source": [
    "### the following code shall add two numbers"
   ]
  },
  {
   "cell_type": "code",
   "execution_count": 6,
   "id": "5da86bc0-e14a-4c72-b825-fc538549db40",
   "metadata": {},
   "outputs": [],
   "source": [
    "import pandas as pd\n",
    "import numpy as np\n",
    "import csv"
   ]
  },
  {
   "cell_type": "code",
   "execution_count": 7,
   "id": "6c565b28-5f9d-4d37-b2ce-1affa79fc67c",
   "metadata": {},
   "outputs": [
    {
     "data": {
      "text/plain": [
       "2"
      ]
     },
     "execution_count": 7,
     "metadata": {},
     "output_type": "execute_result"
    }
   ],
   "source": [
    "1+1"
   ]
  },
  {
   "cell_type": "markdown",
   "id": "1babe8d5-b7ff-4184-9456-8e459bcb9d09",
   "metadata": {},
   "source": [
    "* traffic jam *\n",
    "* table salt *\n",
    "* cat fur *\n",
    "\n",
    "`here is some code!`\n",
    "\n",
    "***\n",
    "mac n cheese\n",
    "***"
   ]
  },
  {
   "cell_type": "code",
   "execution_count": null,
   "id": "54bde261-6fc8-450a-befb-6d34379eed93",
   "metadata": {},
   "outputs": [],
   "source": []
  }
 ],
 "metadata": {
  "kernelspec": {
   "display_name": "Python",
   "language": "python",
   "name": "conda-env-python-py"
  },
  "language_info": {
   "codemirror_mode": {
    "name": "ipython",
    "version": 3
   },
   "file_extension": ".py",
   "mimetype": "text/x-python",
   "name": "python",
   "nbconvert_exporter": "python",
   "pygments_lexer": "ipython3",
   "version": "3.7.12"
  }
 },
 "nbformat": 4,
 "nbformat_minor": 5
}
